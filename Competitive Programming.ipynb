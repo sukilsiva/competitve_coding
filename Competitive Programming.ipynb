{
 "cells": [
  {
   "cell_type": "code",
   "execution_count": 1,
   "metadata": {},
   "outputs": [],
   "source": [
    "import random\n",
    "\n",
    "arr = []\n",
    "\n",
    "for i in range(0,8):\n",
    "    num = random.randint(0,1)\n",
    "    arr.append(num)"
   ]
  },
  {
   "cell_type": "code",
   "execution_count": 2,
   "metadata": {},
   "outputs": [
    {
     "data": {
      "text/plain": [
       "[0, 0, 0, 1, 1, 0, 1, 1]"
      ]
     },
     "execution_count": 2,
     "metadata": {},
     "output_type": "execute_result"
    }
   ],
   "source": [
    "arr"
   ]
  },
  {
   "cell_type": "code",
   "execution_count": 3,
   "metadata": {},
   "outputs": [
    {
     "name": "stdout",
     "output_type": "stream",
     "text": [
      "8\n"
     ]
    }
   ],
   "source": [
    "n = len(arr)\n",
    "print(n)"
   ]
  },
  {
   "cell_type": "code",
   "execution_count": 4,
   "metadata": {},
   "outputs": [],
   "source": [
    "def seperator(arr,n):\n",
    "    counts = 0\n",
    "    \n",
    "    for i in range(0,n):\n",
    "        if (arr[i] == 0):\n",
    "            counts = counts + 1\n",
    "        \n",
    "        for i in range(0,counts):\n",
    "            arr[i] = 0\n",
    "        for i in range(counts,n):\n",
    "            arr[i] = 1\n",
    "def print_array(arr,n):\n",
    "    \n",
    "    print(\"the seperated array is :\", end = \" \")\n",
    "    \n",
    "    for i in range(0,n):\n",
    "        print(arr[i], end = \" \")"
   ]
  },
  {
   "cell_type": "code",
   "execution_count": 5,
   "metadata": {},
   "outputs": [
    {
     "name": "stdout",
     "output_type": "stream",
     "text": [
      "the seperated array is : 0 1 1 1 1 1 1 1 "
     ]
    }
   ],
   "source": [
    "seperator(arr,n)\n",
    "print_array(arr,n)"
   ]
  },
  {
   "cell_type": "code",
   "execution_count": 6,
   "metadata": {},
   "outputs": [
    {
     "ename": "NameError",
     "evalue": "name 'counts' is not defined",
     "output_type": "error",
     "traceback": [
      "\u001b[1;31m---------------------------------------------------------------------------\u001b[0m",
      "\u001b[1;31mNameError\u001b[0m                                 Traceback (most recent call last)",
      "\u001b[1;32m<ipython-input-6-3ff28dba59f3>\u001b[0m in \u001b[0;36m<module>\u001b[1;34m\u001b[0m\n\u001b[1;32m----> 1\u001b[1;33m \u001b[0mprint\u001b[0m\u001b[1;33m(\u001b[0m\u001b[0mcounts\u001b[0m\u001b[1;33m)\u001b[0m\u001b[1;33m\u001b[0m\u001b[1;33m\u001b[0m\u001b[0m\n\u001b[0m",
      "\u001b[1;31mNameError\u001b[0m: name 'counts' is not defined"
     ]
    }
   ],
   "source": [
    "print(counts)"
   ]
  },
  {
   "cell_type": "code",
   "execution_count": 7,
   "metadata": {},
   "outputs": [
    {
     "data": {
      "text/plain": [
       "[0, 1, 1, 1, 1, 1, 1, 1]"
      ]
     },
     "execution_count": 7,
     "metadata": {},
     "output_type": "execute_result"
    }
   ],
   "source": [
    "arr"
   ]
  },
  {
   "cell_type": "code",
   "execution_count": 8,
   "metadata": {},
   "outputs": [
    {
     "data": {
      "text/plain": [
       "[1, 0, 0, 1, 1, 0, 0, 0]"
      ]
     },
     "execution_count": 8,
     "metadata": {},
     "output_type": "execute_result"
    }
   ],
   "source": [
    "arr1 = []\n",
    "\n",
    "for i in range(0,8):\n",
    "    num = random.randint(0,1)\n",
    "    arr1.append(num)\n",
    "arr1"
   ]
  },
  {
   "cell_type": "code",
   "execution_count": 9,
   "metadata": {},
   "outputs": [
    {
     "data": {
      "text/plain": [
       "3"
      ]
     },
     "execution_count": 9,
     "metadata": {},
     "output_type": "execute_result"
    }
   ],
   "source": [
    "count = 0\n",
    "\n",
    "n = len(arr1)\n",
    "\n",
    "for i in arr1:\n",
    "    if arr1[i] == 0:\n",
    "        count += 1\n",
    "    \n",
    "count"
   ]
  },
  {
   "cell_type": "code",
   "execution_count": 10,
   "metadata": {},
   "outputs": [],
   "source": [
    "for i in range(0,count):\n",
    "    arr1[i] = 0\n",
    "for i in range(count,len(arr1)):\n",
    "    arr1[i] = 1"
   ]
  },
  {
   "cell_type": "code",
   "execution_count": 11,
   "metadata": {},
   "outputs": [
    {
     "data": {
      "text/plain": [
       "[0, 0, 0, 1, 1, 1, 1, 1]"
      ]
     },
     "execution_count": 11,
     "metadata": {},
     "output_type": "execute_result"
    }
   ],
   "source": [
    "arr1"
   ]
  },
  {
   "cell_type": "markdown",
   "metadata": {},
   "source": [
    "# Binary  Search  Tree Program"
   ]
  },
  {
   "cell_type": "code",
   "execution_count": 26,
   "metadata": {},
   "outputs": [],
   "source": [
    "class Node:\n",
    "    val = 0\n",
    "    left = 0\n",
    "    right = 0\n",
    "    def __init__(self,val):\n",
    "        self.val = val\n",
    "        \n",
    "class BST:\n",
    "    def __init__(self, val):\n",
    "        self.root = Node(val)\n",
    "    def insert(self, val, node):\n",
    "        if node.val < val:\n",
    "            if node.right:\n",
    "                self.insert(val, node.right)\n",
    "            else:\n",
    "                node.right = Node(val)\n",
    "        elif  val < node.val:\n",
    "            if node.left:\n",
    "                self.insert(val, node.left)\n",
    "            else:\n",
    "                node.left = Node(val)\n",
    "        else:\n",
    "            print(\"the value is already in the tree\")\n",
    "    def number_of_leaves(self, node):\n",
    "        if node.left and node.right:\n",
    "            return self.number_of_leaves(node.left) + self.number_of_leaves(node.right)\n",
    "        elif node.left:\n",
    "            return self.number_of_leaves(node.left)\n",
    "        elif node.right:\n",
    "            self.number_of_leaves(node.right)\n",
    "        else:\n",
    "            return 1 # leave as it is\n",
    "    def number_of_leaves_i(self):\n",
    "        nodes = [self.root]\n",
    "        leaves = 0\n",
    "        while nodes:\n",
    "            node = nodes[0]\n",
    "            if node.left:\n",
    "                nodes.append(node.left)\n",
    "            if node.right:\n",
    "                nodes.append(node.right)\n",
    "            if (not node.left) and (not node.right):\n",
    "                leaves += 1\n",
    "            del nodes[0]\n",
    "        return leaves    "
   ]
  },
  {
   "cell_type": "code",
   "execution_count": 28,
   "metadata": {},
   "outputs": [
    {
     "name": "stdout",
     "output_type": "stream",
     "text": [
      "3\n"
     ]
    }
   ],
   "source": [
    "tree = BST(10)\n",
    "tree.insert(15, tree.root)\n",
    "tree.insert(12, tree.root)\n",
    "tree.insert(25, tree.root)\n",
    "tree.insert(35, tree.root)\n",
    "tree.insert(5, tree.root)\n",
    "#print(tree.number_of_leaves(tree.root))\n",
    "print(tree.number_of_leaves_i())"
   ]
  },
  {
   "cell_type": "markdown",
   "metadata": {},
   "source": [
    "# STRING FUNCTIONS "
   ]
  },
  {
   "cell_type": "code",
   "execution_count": 13,
   "metadata": {},
   "outputs": [],
   "source": [
    "str1 = \"fun1(fun2(a,b),c,fun2(a),fun3(c,d))\""
   ]
  },
  {
   "cell_type": "code",
   "execution_count": 14,
   "metadata": {},
   "outputs": [
    {
     "name": "stdout",
     "output_type": "stream",
     "text": [
      "fun1(fun2(a,b),c,fun2(a),fun3(c,d))\n"
     ]
    }
   ],
   "source": [
    "print(str1)"
   ]
  },
  {
   "cell_type": "markdown",
   "metadata": {},
   "source": [
    "# Stack"
   ]
  },
  {
   "cell_type": "code",
   "execution_count": 57,
   "metadata": {},
   "outputs": [],
   "source": [
    "#from exception import empty \n",
    "\n",
    "class empty():\n",
    "    pass\n",
    "\n",
    "class arraystack:\n",
    "    def __init__(self):\n",
    "        self.data = []\n",
    "    def length(self):\n",
    "        return len(self.data)\n",
    "    def is_empty(self):\n",
    "        return len(self.data) == 0\n",
    "    \n",
    "    def push(self,e):\n",
    "        self.data.append(e)\n",
    "    def pop(self):\n",
    "        if self.is_empty():\n",
    "            print (\" the stack is empty\")\n",
    "        return self.data.pop()\n",
    "    def top(self):\n",
    "        if self.is_empty():\n",
    "            print (\"the stack is empty\")\n",
    "        return self.data[-1]"
   ]
  },
  {
   "cell_type": "code",
   "execution_count": 58,
   "metadata": {},
   "outputs": [
    {
     "name": "stdout",
     "output_type": "stream",
     "text": [
      "the stack is : [10, 20]\n"
     ]
    }
   ],
   "source": [
    "s = arraystack()\n",
    "s.push(10)\n",
    "s.push(20)\n",
    "\n",
    "print(\"the stack is : {}\".format(s.data))"
   ]
  },
  {
   "cell_type": "code",
   "execution_count": 59,
   "metadata": {},
   "outputs": [
    {
     "name": "stdout",
     "output_type": "stream",
     "text": [
      "20\n"
     ]
    }
   ],
   "source": [
    "print(s.pop())"
   ]
  },
  {
   "cell_type": "code",
   "execution_count": 60,
   "metadata": {},
   "outputs": [
    {
     "name": "stdout",
     "output_type": "stream",
     "text": [
      "[10]\n"
     ]
    }
   ],
   "source": [
    "print(s.data)"
   ]
  },
  {
   "cell_type": "code",
   "execution_count": 61,
   "metadata": {},
   "outputs": [
    {
     "name": "stdout",
     "output_type": "stream",
     "text": [
      "None\n"
     ]
    }
   ],
   "source": [
    "print(s.push(45))"
   ]
  },
  {
   "cell_type": "code",
   "execution_count": 62,
   "metadata": {},
   "outputs": [
    {
     "name": "stdout",
     "output_type": "stream",
     "text": [
      "[10, 45]\n"
     ]
    }
   ],
   "source": [
    "print(s.data)"
   ]
  },
  {
   "cell_type": "code",
   "execution_count": 63,
   "metadata": {},
   "outputs": [
    {
     "data": {
      "text/plain": [
       "False"
      ]
     },
     "execution_count": 63,
     "metadata": {},
     "output_type": "execute_result"
    }
   ],
   "source": [
    "s.is_empty()"
   ]
  },
  {
   "cell_type": "code",
   "execution_count": 64,
   "metadata": {},
   "outputs": [
    {
     "data": {
      "text/plain": [
       "2"
      ]
     },
     "execution_count": 64,
     "metadata": {},
     "output_type": "execute_result"
    }
   ],
   "source": [
    "s.length()"
   ]
  },
  {
   "cell_type": "code",
   "execution_count": 65,
   "metadata": {},
   "outputs": [
    {
     "name": "stdout",
     "output_type": "stream",
     "text": [
      "45\n"
     ]
    }
   ],
   "source": [
    "print(s.top())"
   ]
  },
  {
   "cell_type": "code",
   "execution_count": 66,
   "metadata": {},
   "outputs": [
    {
     "data": {
      "text/plain": [
       "45"
      ]
     },
     "execution_count": 66,
     "metadata": {},
     "output_type": "execute_result"
    }
   ],
   "source": [
    "s.pop()"
   ]
  },
  {
   "cell_type": "code",
   "execution_count": 67,
   "metadata": {},
   "outputs": [
    {
     "data": {
      "text/plain": [
       "10"
      ]
     },
     "execution_count": 67,
     "metadata": {},
     "output_type": "execute_result"
    }
   ],
   "source": [
    "s.pop()"
   ]
  },
  {
   "cell_type": "code",
   "execution_count": 68,
   "metadata": {},
   "outputs": [
    {
     "name": "stdout",
     "output_type": "stream",
     "text": [
      " the stack is empty\n"
     ]
    },
    {
     "ename": "IndexError",
     "evalue": "pop from empty list",
     "output_type": "error",
     "traceback": [
      "\u001b[1;31m---------------------------------------------------------------------------\u001b[0m",
      "\u001b[1;31mIndexError\u001b[0m                                Traceback (most recent call last)",
      "\u001b[1;32m<ipython-input-68-c88c8c48122b>\u001b[0m in \u001b[0;36m<module>\u001b[1;34m\u001b[0m\n\u001b[1;32m----> 1\u001b[1;33m \u001b[0ms\u001b[0m\u001b[1;33m.\u001b[0m\u001b[0mpop\u001b[0m\u001b[1;33m(\u001b[0m\u001b[1;33m)\u001b[0m\u001b[1;33m\u001b[0m\u001b[1;33m\u001b[0m\u001b[0m\n\u001b[0m",
      "\u001b[1;32m<ipython-input-57-ee1c250c4a54>\u001b[0m in \u001b[0;36mpop\u001b[1;34m(self)\u001b[0m\n\u001b[0;32m     17\u001b[0m         \u001b[1;32mif\u001b[0m \u001b[0mself\u001b[0m\u001b[1;33m.\u001b[0m\u001b[0mis_empty\u001b[0m\u001b[1;33m(\u001b[0m\u001b[1;33m)\u001b[0m\u001b[1;33m:\u001b[0m\u001b[1;33m\u001b[0m\u001b[1;33m\u001b[0m\u001b[0m\n\u001b[0;32m     18\u001b[0m             \u001b[0mprint\u001b[0m \u001b[1;33m(\u001b[0m\u001b[1;34m\" the stack is empty\"\u001b[0m\u001b[1;33m)\u001b[0m\u001b[1;33m\u001b[0m\u001b[1;33m\u001b[0m\u001b[0m\n\u001b[1;32m---> 19\u001b[1;33m         \u001b[1;32mreturn\u001b[0m \u001b[0mself\u001b[0m\u001b[1;33m.\u001b[0m\u001b[0mdata\u001b[0m\u001b[1;33m.\u001b[0m\u001b[0mpop\u001b[0m\u001b[1;33m(\u001b[0m\u001b[1;33m)\u001b[0m\u001b[1;33m\u001b[0m\u001b[1;33m\u001b[0m\u001b[0m\n\u001b[0m\u001b[0;32m     20\u001b[0m     \u001b[1;32mdef\u001b[0m \u001b[0mtop\u001b[0m\u001b[1;33m(\u001b[0m\u001b[0mself\u001b[0m\u001b[1;33m)\u001b[0m\u001b[1;33m:\u001b[0m\u001b[1;33m\u001b[0m\u001b[1;33m\u001b[0m\u001b[0m\n\u001b[0;32m     21\u001b[0m         \u001b[1;32mif\u001b[0m \u001b[0mself\u001b[0m\u001b[1;33m.\u001b[0m\u001b[0mis_empty\u001b[0m\u001b[1;33m(\u001b[0m\u001b[1;33m)\u001b[0m\u001b[1;33m:\u001b[0m\u001b[1;33m\u001b[0m\u001b[1;33m\u001b[0m\u001b[0m\n",
      "\u001b[1;31mIndexError\u001b[0m: pop from empty list"
     ]
    }
   ],
   "source": [
    "s.pop()"
   ]
  },
  {
   "cell_type": "markdown",
   "metadata": {},
   "source": [
    "# Competitve Programming-1"
   ]
  },
  {
   "cell_type": "code",
   "execution_count": 1,
   "metadata": {},
   "outputs": [],
   "source": [
    "def digit_manipulate(pos,len_num,manipulation_list,num):\n",
    "    all_comb_list = []\n",
    "    list_num = [x for x in str(num)]\n",
    "    while(pos < len_num):\n",
    "        for i in range(0, len(manipulation_list)):\n",
    "            list_num[pos] = manipulation_list[i]\n",
    "            str_num = (\"\".join(list_num))\n",
    "            int_num = int(str_num)\n",
    "           \n",
    "            if (int_num < 1000 or int_num > 9999 or int_num == num):\n",
    "                continue\n",
    "            else:\n",
    "                diff = int_num - 1000\n",
    "                all_comb_list.append(diff)\n",
    "\n",
    "        pos += 1\n",
    "        list_num = [x for x in str(num)]\n",
    "    min_res = min(all_comb_list)\n",
    "    if(len(out_list)== 0):\n",
    "        out_list.append(min_res + 1000)\n",
    "    else:\n",
    "        while(out_list[len(out_list)-1] > min_res+1000):\n",
    "            all_comb_list.remove(min_res)\n",
    "            min_res = min(all_comb_list)\n",
    "        out_list.append(min_res + 1000)"
   ]
  },
  {
   "cell_type": "code",
   "execution_count": 2,
   "metadata": {},
   "outputs": [
    {
     "name": "stdout",
     "output_type": "stream",
     "text": [
      "Please enter the length of the array:3\n",
      "1056\n",
      "1887\n",
      "9765\n",
      "[1006, 1087, 1765]\n"
     ]
    }
   ],
   "source": [
    "input_list =[]\n",
    "out_list = []\n",
    "manipulation_list = ['0','1','2','3','4','5','6','7','8','9']\n",
    "n = int(input(\"Please enter the length of the array:\"))\n",
    "pos = 0\n",
    "for i in range(0,n):\n",
    "    a=int(input())\n",
    "    input_list.append(a)\n",
    "for i in range(0,n):\n",
    "    num = input_list[i]\n",
    "    str_num = str(num)\n",
    "    len_num = len(str_num)\n",
    "    digit_manipulate(pos,len_num,manipulation_list,num)\n",
    "\n",
    "print(out_list)"
   ]
  },
  {
   "cell_type": "code",
   "execution_count": 7,
   "metadata": {},
   "outputs": [
    {
     "ename": "TypeError",
     "evalue": "'int' object is not callable",
     "output_type": "error",
     "traceback": [
      "\u001b[1;31m---------------------------------------------------------------------------\u001b[0m",
      "\u001b[1;31mTypeError\u001b[0m                                 Traceback (most recent call last)",
      "\u001b[1;32m<ipython-input-7-366cc7d33fc3>\u001b[0m in \u001b[0;36m<module>\u001b[1;34m\u001b[0m\n\u001b[0;32m     81\u001b[0m         \u001b[0mn\u001b[0m \u001b[1;33m=\u001b[0m \u001b[0mlen\u001b[0m\u001b[1;33m(\u001b[0m\u001b[0marr\u001b[0m\u001b[1;33m)\u001b[0m\u001b[1;33m;\u001b[0m\u001b[1;33m\u001b[0m\u001b[1;33m\u001b[0m\u001b[0m\n\u001b[0;32m     82\u001b[0m \u001b[1;33m\u001b[0m\u001b[0m\n\u001b[1;32m---> 83\u001b[1;33m         \u001b[0mgetList\u001b[0m\u001b[1;33m(\u001b[0m\u001b[0marr\u001b[0m\u001b[1;33m,\u001b[0m \u001b[0mn\u001b[0m\u001b[1;33m)\u001b[0m\u001b[1;33m;\u001b[0m\u001b[1;33m\u001b[0m\u001b[1;33m\u001b[0m\u001b[0m\n\u001b[0m",
      "\u001b[1;32m<ipython-input-7-366cc7d33fc3>\u001b[0m in \u001b[0;36mgetList\u001b[1;34m(arr, n)\u001b[0m\n\u001b[0;32m     61\u001b[0m                 \u001b[0mcur\u001b[0m \u001b[1;33m=\u001b[0m \u001b[0marr\u001b[0m\u001b[1;33m[\u001b[0m\u001b[0mi\u001b[0m\u001b[1;33m]\u001b[0m\u001b[1;33m;\u001b[0m\u001b[1;33m\u001b[0m\u001b[1;33m\u001b[0m\u001b[0m\n\u001b[0;32m     62\u001b[0m \u001b[1;33m\u001b[0m\u001b[0m\n\u001b[1;32m---> 63\u001b[1;33m                 \u001b[0mmyList\u001b[0m\u001b[1;33m.\u001b[0m\u001b[0mappend\u001b[0m\u001b[1;33m(\u001b[0m\u001b[0mgetBest\u001b[0m\u001b[1;33m(\u001b[0m\u001b[0mmyList\u001b[0m\u001b[1;33m[\u001b[0m\u001b[1;33m-\u001b[0m\u001b[1;36m1\u001b[0m\u001b[1;33m]\u001b[0m\u001b[1;33m,\u001b[0m \u001b[0mcur\u001b[0m\u001b[1;33m)\u001b[0m\u001b[1;33m)\u001b[0m\u001b[1;33m;\u001b[0m\u001b[1;33m\u001b[0m\u001b[1;33m\u001b[0m\u001b[0m\n\u001b[0m\u001b[0;32m     64\u001b[0m \u001b[1;33m\u001b[0m\u001b[0m\n\u001b[0;32m     65\u001b[0m                 \u001b[1;31m# Can't make the list non-decreasing\u001b[0m\u001b[1;33m\u001b[0m\u001b[1;33m\u001b[0m\u001b[1;33m\u001b[0m\u001b[0m\n",
      "\u001b[1;32m<ipython-input-7-366cc7d33fc3>\u001b[0m in \u001b[0;36mgetBest\u001b[1;34m(prev, cur)\u001b[0m\n\u001b[0;32m      9\u001b[0m         \u001b[1;31m# To start with the value\u001b[0m\u001b[1;33m\u001b[0m\u001b[1;33m\u001b[0m\u001b[1;33m\u001b[0m\u001b[0m\n\u001b[0;32m     10\u001b[0m         \u001b[1;31m# we have achieved in the last step\u001b[0m\u001b[1;33m\u001b[0m\u001b[1;33m\u001b[0m\u001b[1;33m\u001b[0m\u001b[0m\n\u001b[1;32m---> 11\u001b[1;33m         \u001b[0mmaximum\u001b[0m \u001b[1;33m=\u001b[0m \u001b[0mmax\u001b[0m\u001b[1;33m(\u001b[0m\u001b[0mMIN\u001b[0m\u001b[1;33m,\u001b[0m \u001b[0mprev\u001b[0m\u001b[1;33m)\u001b[0m\u001b[1;33m;\u001b[0m\u001b[1;33m\u001b[0m\u001b[1;33m\u001b[0m\u001b[0m\n\u001b[0m\u001b[0;32m     12\u001b[0m \u001b[1;33m\u001b[0m\u001b[0m\n\u001b[0;32m     13\u001b[0m         \u001b[1;32mfor\u001b[0m \u001b[0mi\u001b[0m \u001b[1;32min\u001b[0m \u001b[0mrange\u001b[0m\u001b[1;33m(\u001b[0m\u001b[0mmaximum\u001b[0m\u001b[1;33m,\u001b[0m \u001b[0mMAX\u001b[0m \u001b[1;33m+\u001b[0m \u001b[1;36m1\u001b[0m\u001b[1;33m)\u001b[0m \u001b[1;33m:\u001b[0m\u001b[1;33m\u001b[0m\u001b[1;33m\u001b[0m\u001b[0m\n",
      "\u001b[1;31mTypeError\u001b[0m: 'int' object is not callable"
     ]
    }
   ],
   "source": [
    "# Python3 implementation of the approach \n",
    "DIGITS = 4; MIN = 1000; MAX = 9999; \n",
    "\n",
    "# Function to return the minimum element \n",
    "# from the range [prev, MAX] such that \n",
    "# it differs in at most 1 digit with cur \n",
    "def getBest(prev, cur) : \n",
    "\n",
    "\t# To start with the value \n",
    "\t# we have achieved in the last step \n",
    "\tmaximum = max(MIN, prev); \n",
    "\n",
    "\tfor i in range(maximum, MAX + 1) : \n",
    "\t\tcnt = 0; \n",
    "\n",
    "\t\t# Store the value with which the \n",
    "\t\t# current will be compared \n",
    "\t\ta = i; \n",
    "\n",
    "\t\t# Current value \n",
    "\t\tb = cur; \n",
    "\n",
    "\t\t# There are at most 4 digits \n",
    "\t\tfor k in range(DIGITS) : \n",
    "\n",
    "\t\t\t# If the current digit differs \n",
    "\t\t\t# in both the numbers \n",
    "\t\t\tif (a % 10 != b % 10) : \n",
    "\t\t\t\tcnt += 1; \n",
    "\n",
    "\t\t\t# Eliminate last digits in \n",
    "\t\t\t# both the numbers \n",
    "\t\t\ta //= 10; \n",
    "\t\t\tb //= 10; \n",
    "\n",
    "\t\t# If the number of different \n",
    "\t\t# digits is at most 1 \n",
    "\t\tif (cnt <= 1) : \n",
    "\t\t\treturn i; \n",
    "\n",
    "\t# If we can't find any number for which \n",
    "\t# the number of change is less than or \n",
    "\t# equal to 1 then return -1 \n",
    "\treturn -1; \n",
    "\n",
    "# Function to get the non-decreasing list \n",
    "def getList(arr, n) : \n",
    "\n",
    "\t# Creating a vector for the updated list \n",
    "\tmyList = []; \n",
    "\t\n",
    "\t# Let's assume that it is possible to \n",
    "\t# make the list non-decreasing \n",
    "\tpossible = True; \n",
    "\n",
    "\tmyList.append(0); \n",
    "\n",
    "\tfor i in range(n) : \n",
    "\n",
    "\t\t# Element of the original array \n",
    "\t\tcur = arr[i]; \n",
    "\n",
    "\t\tmyList.append(getBest(myList[-1], cur)); \n",
    "\n",
    "\t\t# Can't make the list non-decreasing \n",
    "\t\tif (myList[-1] == -1) : \n",
    "\t\t\tpossible = False; \n",
    "\t\t\tbreak; \n",
    "\n",
    "\t# If possible then print the list \n",
    "\tif (possible) : \n",
    "\t\tfor i in range(1, len(myList)) : \n",
    "\t\t\tprint(myList[i], end = \" \"); \n",
    "\telse : \n",
    "\t\tprint(\"-1\"); \n",
    "\n",
    "# Driver code \n",
    "if __name__ == \"__main__\" : \n",
    "\n",
    "\tarr = [ 1095, 1094, 1095 ]; \n",
    "\tn = len(arr); \n",
    "\n",
    "\tgetList(arr, n); "
   ]
  },
  {
   "cell_type": "markdown",
   "metadata": {},
   "source": [
    "# GIVEN AN ARRAY OF NUMBERS WRITE A CODE TO FIND A NUMBER WHICH HAS SAME OS NUMBERS ON EITHER OF ITS SIDE"
   ]
  },
  {
   "cell_type": "code",
   "execution_count": 1,
   "metadata": {},
   "outputs": [
    {
     "data": {
      "text/plain": [
       "5"
      ]
     },
     "execution_count": 1,
     "metadata": {},
     "output_type": "execute_result"
    }
   ],
   "source": [
    "array = [1,2,3,4,6]\n",
    "n = len(array)\n",
    "n"
   ]
  },
  {
   "cell_type": "code",
   "execution_count": 3,
   "metadata": {},
   "outputs": [
    {
     "name": "stdout",
     "output_type": "stream",
     "text": [
      "16\n"
     ]
    }
   ],
   "source": [
    "re, le = 0,0\n",
    "for i in range(0,n):\n",
    "    re = re + array[i]\n",
    "print(re)"
   ]
  },
  {
   "cell_type": "code",
   "execution_count": null,
   "metadata": {},
   "outputs": [],
   "source": [
    "i=0 \n",
    "j=1\n",
    "\n",
    "while j < n:\n",
    "    re = re - array[j]\n",
    "    le = le + array[i]\n",
    "    \n",
    "    j=j+1\n",
    "    i=i+1\n",
    "print(re)\n",
    "print(le)"
   ]
  },
  {
   "cell_type": "code",
   "execution_count": 11,
   "metadata": {},
   "outputs": [
    {
     "name": "stdout",
     "output_type": "stream",
     "text": [
      "1 1\n",
      "1 2\n",
      "1 3\n",
      "1 4\n",
      "1 6\n",
      "2 1\n",
      "2 2\n",
      "2 3\n",
      "2 4\n",
      "2 6\n",
      "3 1\n",
      "3 2\n",
      "3 3\n",
      "3 4\n",
      "3 6\n",
      "4 1\n",
      "4 2\n",
      "4 3\n",
      "4 4\n",
      "4 6\n",
      "6 1\n",
      "6 2\n",
      "6 3\n",
      "6 4\n",
      "6 6\n"
     ]
    }
   ],
   "source": [
    "for i in range(n):                                                \n",
    "    for j in range(n):\n",
    "        print(array[i],array[j])                                   "
   ]
  },
  {
   "cell_type": "code",
   "execution_count": 23,
   "metadata": {},
   "outputs": [
    {
     "name": "stdout",
     "output_type": "stream",
     "text": [
      "0 0\n",
      "1 0\n",
      "1 1\n",
      "2 0\n",
      "2 1\n",
      "2 2\n",
      "3 0\n",
      "3 1\n",
      "3 2\n",
      "3 3\n",
      "4 0\n",
      "4 1\n",
      "4 2\n",
      "4 3\n",
      "4 4\n"
     ]
    }
   ],
   "source": [
    "for i in range(n):\n",
    "    for j in range(i+1):\n",
    "        print(i,j)"
   ]
  },
  {
   "cell_type": "code",
   "execution_count": 35,
   "metadata": {},
   "outputs": [
    {
     "name": "stdout",
     "output_type": "stream",
     "text": [
      "0 0\n",
      "0 1\n",
      "0 2\n",
      "0 3\n",
      "0 4\n",
      "1 0\n",
      "1 1\n",
      "1 2\n",
      "1 3\n",
      "1 4\n",
      "2 0\n",
      "2 1\n",
      "2 2\n",
      "2 3\n",
      "2 4\n",
      "3 0\n",
      "3 1\n",
      "3 2\n",
      "3 3\n",
      "3 4\n",
      "4 0\n",
      "4 1\n",
      "4 2\n",
      "4 3\n",
      "4 4\n"
     ]
    }
   ],
   "source": [
    "array = [1,2,2,1,3]\n",
    "n = 5\n",
    "i=0\n",
    "j=0\n",
    "for i in range(n):\n",
    "    for j in range(n):\n",
    "        print(arra[i],[j)\n",
    "        #print(array[i], array[j])\n",
    "        #if array[i] == array[j]"
   ]
  },
  {
   "cell_type": "markdown",
   "metadata": {},
   "source": [
    "# Print Anagrams together"
   ]
  },
  {
   "cell_type": "code",
   "execution_count": 2,
   "metadata": {},
   "outputs": [],
   "source": [
    "arr = [\"cat\", \"act\", \"tac\", \"siva\", \"visa\"]\n",
    "\n",
    "from collections import defaultdict"
   ]
  },
  {
   "cell_type": "code",
   "execution_count": 37,
   "metadata": {},
   "outputs": [],
   "source": [
    "def anagrams(words):\n",
    "    groupedwords = defaultdict(list)\n",
    "    \n",
    "    for word in words:\n",
    "        groupedwords[''.join(sorted(word))].append(word)\n",
    "        \n",
    "    for group in groupedwords.values():\n",
    "        print(','.join(group))"
   ]
  },
  {
   "cell_type": "code",
   "execution_count": 38,
   "metadata": {},
   "outputs": [
    {
     "name": "stdout",
     "output_type": "stream",
     "text": [
      "cat,tac,act\n",
      "dog,god\n"
     ]
    }
   ],
   "source": [
    "anagrams(arr)"
   ]
  },
  {
   "cell_type": "markdown",
   "metadata": {},
   "source": [
    "# PRINT THE CORRECT COMBINATIONS"
   ]
  },
  {
   "cell_type": "code",
   "execution_count": 18,
   "metadata": {},
   "outputs": [
    {
     "name": "stdout",
     "output_type": "stream",
     "text": [
      "enter the code!#%&*\n",
      "enter the code*&%#!\n",
      "! # % & *\n",
      "! # % & *\n"
     ]
    }
   ],
   "source": [
    "a = input(\"enter the code\")\n",
    "b = input(\"enter the code\")\n",
    "func1 = []\n",
    "func2 = []\n",
    "s1 = \" \"\n",
    "s2 = \" \"\n",
    "def comb(a,b):\n",
    "    a = sorted(a)\n",
    "    b = sorted(b)\n",
    "    \n",
    "    for i,j in zip(a,b):\n",
    "        if i == j:\n",
    "            func1.append(i)\n",
    "            func2.append(j)\n",
    "        else:\n",
    "            print(\"perfect match not found\")\n",
    "            break\n",
    "    print(s1.join(func1))\n",
    "    print(s2.join(func2))\n",
    "    \n",
    "\n",
    "comb(a,b)"
   ]
  },
  {
   "cell_type": "code",
   "execution_count": 11,
   "metadata": {},
   "outputs": [
    {
     "data": {
      "text/plain": [
       "' '"
      ]
     },
     "execution_count": 11,
     "metadata": {},
     "output_type": "execute_result"
    }
   ],
   "source": [
    "s1"
   ]
  }
 ],
 "metadata": {
  "kernelspec": {
   "display_name": "Python 3",
   "language": "python",
   "name": "python3"
  },
  "language_info": {
   "codemirror_mode": {
    "name": "ipython",
    "version": 3
   },
   "file_extension": ".py",
   "mimetype": "text/x-python",
   "name": "python",
   "nbconvert_exporter": "python",
   "pygments_lexer": "ipython3",
   "version": "3.7.6"
  }
 },
 "nbformat": 4,
 "nbformat_minor": 4
}
