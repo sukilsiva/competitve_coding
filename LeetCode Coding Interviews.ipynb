{
 "cells": [
  {
   "cell_type": "markdown",
   "metadata": {},
   "source": [
    "### Question 1:"
   ]
  },
  {
   "cell_type": "markdown",
   "metadata": {},
   "source": [
    "Given a sorted array of distinct integers and a target value, return the index if the target is found. If not, return the index where it would be if it were inserted in order.\n",
    "\n",
    " \n",
    "\n",
    "Example 1:\n",
    "\n",
    "Input: nums = [1,3,5,6], target = 5\n",
    "Output: 2\n",
    "\n",
    "Example 2:\n",
    "\n",
    "Input: nums = [1,3,5,6], target = 2\n",
    "Output: 1\n",
    "\n",
    "Example 3:\n",
    "\n",
    "Input: nums = [1,3,5,6], target = 7\n",
    "Output: 4\n",
    "\n",
    "Example 4:\n",
    "\n",
    "Input: nums = [1,3,5,6], target = 0\n",
    "Output: 0\n",
    "\n",
    "Example 5:\n",
    "\n",
    "Input: nums = [1], target = 0\n",
    "Output: 0\n",
    "\n",
    " \n",
    "\n",
    "Constraints:\n",
    "\n",
    "    1 <= nums.length <= 104\n",
    "    -104 <= nums[i] <= 104\n",
    "    nums contains distinct values sorted in ascending order.\n",
    "    -104 <= target <= 104\n",
    "\n"
   ]
  },
  {
   "cell_type": "code",
   "execution_count": 2,
   "metadata": {},
   "outputs": [
    {
     "data": {
      "text/plain": [
       "1"
      ]
     },
     "execution_count": 2,
     "metadata": {},
     "output_type": "execute_result"
    }
   ],
   "source": [
    "class Solution:\n",
    "    def Sorted_array(self, array : List[int], target:int):\n",
    "        last_element = array[-1]\n",
    "        i = 0\n",
    "        if len(array) == 0:\n",
    "            return 0\n",
    "        if target == None:\n",
    "            return 0\n",
    "        if target in array:\n",
    "            while i < len(array):\n",
    "                if array[i] == target:\n",
    "                    return i       \n",
    "                else:\n",
    "                    i += 1\n",
    "        else:\n",
    "            if target < array[0]:\n",
    "                return 0 \n",
    "            elif target > last_element:\n",
    "                return len(array)\n",
    "            for idx in range(len(array)):\n",
    "                if array[idx] < target:\n",
    "                    continue\n",
    "                break\n",
    "            return idx\n",
    "                                \n",
    "            \n",
    "### Call the Function     \n",
    "s = Solution()\n",
    "s.Sorted_array([1,3,5,6], 2)"
   ]
  },
  {
   "cell_type": "markdown",
   "metadata": {},
   "source": [
    "### Question2 :"
   ]
  },
  {
   "cell_type": "markdown",
   "metadata": {},
   "source": [
    "You are given two non-empty linked lists representing two non-negative integers. The digits are stored in reverse order, and each of their nodes contains a single digit. Add the two numbers and return the sum as a linked list.\n",
    "\n",
    "You may assume the two numbers do not contain any leading zero, except the number 0 itself.\n",
    "\n",
    " \n",
    "\n",
    "Example 1:\n",
    "\n",
    "Input: l1 = [2,4,3], l2 = [5,6,4]\n",
    "Output: [7,0,8]\n",
    "Explanation: 342 + 465 = 807.\n",
    "\n",
    "Example 2:\n",
    "\n",
    "Input: l1 = [0], l2 = [0]\n",
    "Output: [0]\n",
    "\n",
    "Example 3:\n",
    "\n",
    "Input: l1 = [9,9,9,9,9,9,9], l2 = [9,9,9,9]\n",
    "Output: [8,9,9,9,0,0,0,1]\n",
    "\n",
    " \n",
    "\n",
    "Constraints:\n",
    "\n",
    "    The number of nodes in each linked list is in the range [1, 100].\n",
    "    0 <= Node.val <= 9\n",
    "    It is guaranteed that the list represents a number that does not have leading zeros.\n",
    "\n"
   ]
  },
  {
   "cell_type": "code",
   "execution_count": 2,
   "metadata": {},
   "outputs": [],
   "source": [
    "class ListNode:\n",
    "    def __init__(self, val=0, next=None):\n",
    "        self.val = val\n",
    "        self.next = next\n",
    "\n",
    "class Solution:\n",
    "    def addTwoNumbers(self, l1: ListNode, l2: ListNode) -> ListNode:\n",
    "        a,b=[],[]\n",
    "        \n",
    "        while l1:\n",
    "            a.append(l1.val)\n",
    "            l1=l1.next\n",
    "        while l2:\n",
    "            b.append(l2.val)\n",
    "            l2=l2.next\n",
    "            \n",
    "        a.reverse()\n",
    "        n1 = int(\"\".join(map(str, a)))\n",
    "        \n",
    "        b.reverse()\n",
    "        n2 = int(\"\".join(map(str, b)))\n",
    "        \n",
    "        sum=n1+n2\n",
    "        res = list(map(int, str(sum)))\n",
    "        \n",
    "        l3 = None\n",
    "        for i in res:\n",
    "            l3 = ListNode(i, l3)\n",
    "            \n",
    "        return l3"
   ]
  },
  {
   "cell_type": "markdown",
   "metadata": {},
   "source": [
    "### Question 3:"
   ]
  },
  {
   "cell_type": "markdown",
   "metadata": {},
   "source": [
    "Given a string s, find the length of the longest substring without repeating characters.\n",
    "\n",
    " \n",
    "\n",
    "Example 1:\n",
    "\n",
    "Input: s = \"abcabcbb\"\n",
    "Output: 3\n",
    "Explanation: The answer is \"abc\", with the length of 3.\n",
    "\n",
    "Example 2:\n",
    "\n",
    "Input: s = \"bbbbb\"\n",
    "Output: 1\n",
    "Explanation: The answer is \"b\", with the length of 1.\n",
    "\n",
    "Example 3:\n",
    "\n",
    "Input: s = \"pwwkew\"\n",
    "Output: 3\n",
    "Explanation: The answer is \"wke\", with the length of 3.\n",
    "Notice that the answer must be a substring, \"pwke\" is a subsequence and not a substring.\n",
    "\n",
    "Example 4:\n",
    "\n",
    "Input: s = \"\"\n",
    "Output: 0\n",
    "\n",
    " \n",
    "\n",
    "Constraints:\n",
    "\n",
    "    0 <= s.length <= 5 * 104\n",
    "    s consists of English letters, digits, symbols and spaces.\n",
    "\n"
   ]
  },
  {
   "cell_type": "code",
   "execution_count": 49,
   "metadata": {},
   "outputs": [
    {
     "name": "stdout",
     "output_type": "stream",
     "text": [
      "array     :        ['a']\n",
      "temp      :        a\n",
      "string    :        ['u']\n",
      "array     :        ['a', 'u']\n",
      "temp      :        au\n",
      "string    :        []\n"
     ]
    },
    {
     "ename": "IndexError",
     "evalue": "list index out of range",
     "output_type": "error",
     "traceback": [
      "\u001b[1;31m---------------------------------------------------------------------------\u001b[0m",
      "\u001b[1;31mIndexError\u001b[0m                                Traceback (most recent call last)",
      "\u001b[1;32m<ipython-input-49-4016041a5828>\u001b[0m in \u001b[0;36m<module>\u001b[1;34m\u001b[0m\n\u001b[0;32m     23\u001b[0m     \u001b[1;32mreturn\u001b[0m \u001b[0mmax_len\u001b[0m\u001b[1;33m\u001b[0m\u001b[1;33m\u001b[0m\u001b[0m\n\u001b[0;32m     24\u001b[0m \u001b[1;33m\u001b[0m\u001b[0m\n\u001b[1;32m---> 25\u001b[1;33m \u001b[0mrecursion_of_string\u001b[0m\u001b[1;33m(\u001b[0m\u001b[0ms\u001b[0m\u001b[1;33m)\u001b[0m\u001b[1;33m\u001b[0m\u001b[1;33m\u001b[0m\u001b[0m\n\u001b[0m",
      "\u001b[1;32m<ipython-input-49-4016041a5828>\u001b[0m in \u001b[0;36mrecursion_of_string\u001b[1;34m(s)\u001b[0m\n\u001b[0;32m      7\u001b[0m     \u001b[0mn\u001b[0m \u001b[1;33m=\u001b[0m \u001b[0mlen\u001b[0m\u001b[1;33m(\u001b[0m\u001b[0mstring\u001b[0m\u001b[1;33m)\u001b[0m\u001b[1;33m\u001b[0m\u001b[1;33m\u001b[0m\u001b[0m\n\u001b[0;32m      8\u001b[0m     \u001b[1;32mwhile\u001b[0m \u001b[1;33m(\u001b[0m\u001b[0mi\u001b[0m\u001b[1;33m<\u001b[0m\u001b[0mn\u001b[0m\u001b[1;33m)\u001b[0m\u001b[1;33m:\u001b[0m\u001b[1;33m\u001b[0m\u001b[1;33m\u001b[0m\u001b[0m\n\u001b[1;32m----> 9\u001b[1;33m         \u001b[1;32mif\u001b[0m \u001b[0mstring\u001b[0m\u001b[1;33m[\u001b[0m\u001b[0mi\u001b[0m\u001b[1;33m]\u001b[0m \u001b[1;32mnot\u001b[0m \u001b[1;32min\u001b[0m \u001b[0marray\u001b[0m\u001b[1;33m:\u001b[0m\u001b[1;33m\u001b[0m\u001b[1;33m\u001b[0m\u001b[0m\n\u001b[0m\u001b[0;32m     10\u001b[0m             \u001b[0marray\u001b[0m\u001b[1;33m.\u001b[0m\u001b[0mappend\u001b[0m\u001b[1;33m(\u001b[0m\u001b[0mstring\u001b[0m\u001b[1;33m[\u001b[0m\u001b[0mi\u001b[0m\u001b[1;33m]\u001b[0m\u001b[1;33m)\u001b[0m\u001b[1;33m\u001b[0m\u001b[1;33m\u001b[0m\u001b[0m\n\u001b[0;32m     11\u001b[0m             \u001b[0mtemp\u001b[0m \u001b[1;33m=\u001b[0m \u001b[1;34m\"\"\u001b[0m\u001b[1;33m.\u001b[0m\u001b[0mjoin\u001b[0m\u001b[1;33m(\u001b[0m\u001b[0marray\u001b[0m\u001b[1;33m)\u001b[0m\u001b[1;33m\u001b[0m\u001b[1;33m\u001b[0m\u001b[0m\n",
      "\u001b[1;31mIndexError\u001b[0m: list index out of range"
     ]
    }
   ],
   "source": [
    "def recursion_of_string(s:str):\n",
    "    string = list(s)\n",
    "    array = []\n",
    "    max_len = 0\n",
    "    res = 0\n",
    "    i = 0\n",
    "    n = len(string)\n",
    "    while (i<n):\n",
    "        if string[i] not in array:\n",
    "            array.append(string[i])\n",
    "            temp = \"\".join(array)\n",
    "            string = string[1:]\n",
    "            print(\"array     :       \",array)\n",
    "            print(\"temp      :       \", temp)\n",
    "            print(\"string    :       \", string)\n",
    "            res += 1\n",
    "            if max_len < res:\n",
    "                max_len = res\n",
    "        else:\n",
    "            array.clear()\n",
    "            temp = \"\"\n",
    "            res = 0\n",
    "    return max_len\n",
    "\n",
    "recursion_of_string(s)"
   ]
  },
  {
   "cell_type": "code",
   "execution_count": 47,
   "metadata": {},
   "outputs": [
    {
     "name": "stdout",
     "output_type": "stream",
     "text": [
      "0\n",
      "1\n"
     ]
    }
   ],
   "source": [
    "s = \"au\"\n",
    "stri = list(s) \n",
    "n = len(stri)\n",
    "i = 0\n",
    "while i < n: \n",
    "    print(i)\n",
    "    i += 1"
   ]
  },
  {
   "cell_type": "code",
   "execution_count": 9,
   "metadata": {},
   "outputs": [
    {
     "data": {
      "text/plain": [
       "'\"    \\n    if i not in array:\\n        array.append(i)\\n        temp = \"\".join(array)\\n        char_array = char_array[1:]\\n        print(\"array :\",array)\\n        print(\"temp :\",temp)\\n        print(\"String_array :\",char_array)\\n        res  += 1\\n        if max_len<res:\\n            max_len = res\\n    if i in array:\\n        array.clear()\\n        temp = \"\"\\n        res = 0\\nprint(max_len)  '"
      ]
     },
     "execution_count": 9,
     "metadata": {},
     "output_type": "execute_result"
    }
   ],
   "source": [
    "    \n",
    "\"\"\"\"    \n",
    "    if i not in array:\n",
    "        array.append(i)\n",
    "        temp = \"\".join(array)\n",
    "        char_array = char_array[1:]\n",
    "        print(\"array :\",array)\n",
    "        print(\"temp :\",temp)\n",
    "        print(\"String_array :\",char_array)\n",
    "        res  += 1\n",
    "        if max_len<res:\n",
    "            max_len = res\n",
    "    if i in array:\n",
    "        array.clear()\n",
    "        temp = \"\"\n",
    "        res = 0\n",
    "print(max_len)  \"\"\"  "
   ]
  },
  {
   "cell_type": "code",
   "execution_count": 16,
   "metadata": {},
   "outputs": [
    {
     "name": "stdout",
     "output_type": "stream",
     "text": [
      "[1, 2, 3, 4]\n"
     ]
    }
   ],
   "source": [
    "merged_array = []\n",
    "nums1 = [1,2] \n",
    "nums2 = [3,4]\n",
    "i = 0\n",
    "j = 0\n",
    "while (i < len(nums1)) and (j < len(nums2)):\n",
    "    if nums1[i] <= nums2[j]:\n",
    "        merged_array.append(nums1[i])\n",
    "        i += 1\n",
    "    else:\n",
    "        merged_array.append(nums2[j])\n",
    "        j += 1\n",
    "\n",
    "while i < len(nums1):\n",
    "    merged_array.append(nums1[i])\n",
    "    i += 1\n",
    "\n",
    "while j < len(nums2):\n",
    "    merged_array.append(nums2[j])\n",
    "    j += 1\n",
    "\n",
    "print(merged_array)"
   ]
  },
  {
   "cell_type": "code",
   "execution_count": 17,
   "metadata": {},
   "outputs": [
    {
     "data": {
      "text/plain": [
       "[1, 2, 3, 4]"
      ]
     },
     "execution_count": 17,
     "metadata": {},
     "output_type": "execute_result"
    }
   ],
   "source": [
    "merged_array"
   ]
  },
  {
   "cell_type": "code",
   "execution_count": 18,
   "metadata": {},
   "outputs": [
    {
     "name": "stdout",
     "output_type": "stream",
     "text": [
      "2.5\n"
     ]
    }
   ],
   "source": [
    "l_len = len(merged_array)\n",
    "if l_len % 2 == 0 :\n",
    "    print(( merged_array[(l_len-1)//2] + merged_array[(l_len+1)//2] ) / 2.0)\n",
    "else:\n",
    "    print (merged_array[(l_len-1)//2])"
   ]
  },
  {
   "cell_type": "code",
   "execution_count": null,
   "metadata": {},
   "outputs": [],
   "source": []
  },
  {
   "cell_type": "code",
   "execution_count": 16,
   "metadata": {},
   "outputs": [
    {
     "name": "stdout",
     "output_type": "stream",
     "text": [
      "0\n",
      "False\n",
      "2\n",
      "False\n",
      "3\n",
      "True\n",
      "4\n",
      "False\n"
     ]
    }
   ],
   "source": [
    "nums = [2,3,1,1,4]\n",
    "\n",
    "n = len(nums)\n",
    "idx = 0\n",
    "while idx < n:\n",
    "    print(idx)\n",
    "    if nums[idx] == 0 & idx != (n-1):\n",
    "        break\n",
    "    idx = idx + nums[idx] \n",
    "    if idx == (n-1):\n",
    "        print(True)\n",
    "    else:\n",
    "        print(False)"
   ]
  },
  {
   "cell_type": "markdown",
   "metadata": {},
   "source": [
    "# Balanced Paranthesis using Stack"
   ]
  },
  {
   "cell_type": "code",
   "execution_count": 22,
   "metadata": {},
   "outputs": [
    {
     "name": "stdout",
     "output_type": "stream",
     "text": [
      "True\n",
      "True\n"
     ]
    }
   ],
   "source": [
    "string = \"([{}])\"\n",
    "\n",
    "class stack():\n",
    "    def __init__(self):\n",
    "        self.values = []\n",
    "    def push(self, value):\n",
    "        return self.values.append(value)\n",
    "    def pop(self):\n",
    "        return self.values.pop()\n",
    "    def is_empty(self):\n",
    "        return self.values==[]\n",
    "    def peek(self):\n",
    "        if not self.is_empty():\n",
    "            return self.values[:-1]\n",
    "        return False\n",
    "\n",
    "def is_balanced(string):\n",
    "    s = stack()\n",
    "    openlist = {'{':'}', '[':']', '(':')'}\n",
    "    for i in string:\n",
    "        if i in openlist.keys():\n",
    "            s.push(i)\n",
    "        elif i in openlist.values():\n",
    "            if s.is_empty():\n",
    "                return False\n",
    "            elif i != openlist[s.pop()]:\n",
    "                return False\n",
    "    \n",
    "    if s.is_empty():\n",
    "        return True\n",
    "    else:\n",
    "        return False\n",
    "    \n",
    "### Solution2\n",
    "\n",
    "def is_match(p1,p2):\n",
    "    if p1==\"(\" and p2 ==\")\":\n",
    "        return True\n",
    "    if p1==\"[\" and p2 ==\"]\":\n",
    "        return True\n",
    "    if p1==\"{\" and p2 ==\"}\":\n",
    "        return True\n",
    "    return p1+p2 in [\"()\",\"[]\",\"{}\"]\n",
    "        \n",
    "    \n",
    "    \n",
    "def panathesis_checker(string):\n",
    "    s = stack()\n",
    "    balanced = True\n",
    "    i = 0\n",
    "\n",
    "    while i < len(string) and balanced:\n",
    "        paren = string[i]\n",
    "        if paren in \"([{\":\n",
    "            s.push(paren)\n",
    "        else:\n",
    "            if s.is_empty():\n",
    "                balanced = False\n",
    "            else:\n",
    "                top = s.pop()\n",
    "                if not is_match(top, paren):\n",
    "                    balanced = False\n",
    "        i+=1\n",
    "    if s.is_empty() and balanced:\n",
    "        return True\n",
    "    else:\n",
    "        return False\n",
    "    \n",
    "print(is_balanced(\"()[]{}\"))\n",
    "print(panathesis_checker(\"()[]{}\"))"
   ]
  },
  {
   "cell_type": "markdown",
   "metadata": {},
   "source": [
    "# Recover Tree Problem:"
   ]
  },
  {
   "cell_type": "code",
   "execution_count": null,
   "metadata": {},
   "outputs": [],
   "source": [
    "class TreeNode:\n",
    "    def __init__(self, val=0, left=None, right=None):\n",
    "        self.val = val\n",
    "        self.left = left\n",
    "        self.right = right\n",
    "        \n",
    "class solution:\n",
    "    def recovertree(self, root: TreeNode) -> None:\n",
    "        currNode = root\n",
    "        stack = []\n",
    "        \n",
    "        while currNode:\n",
    "            stack.append(currNode)\n",
    "            if currNode.left:\n",
    "                currNode = currNode.left\n",
    "                stack.append(currNode)\n",
    "            else:\n",
    "                currNode = currNode.right\n",
    "                stack.append(currNode)\n",
    "                \n",
    "        def order_tree(arr):    ### Building Balanced tree From Stack\n",
    "            if not arr:\n",
    "                return None\n",
    "            \n",
    "            mid = len(arr)//2   ### ke\n",
    "            \n",
    "            root = TreeNode(arr[mid])\n",
    "            root.left = order_tree(arr[:mid])\n",
    "            root.right = order_tree(arr[mid+1:])\n",
    "            \n",
    "            return root\n",
    "        \n",
    "        order_tree(stack)"
   ]
  },
  {
   "cell_type": "markdown",
   "metadata": {},
   "source": [
    "# Compare Versions Problem Cisco Interview Questions"
   ]
  },
  {
   "cell_type": "code",
   "execution_count": 27,
   "metadata": {},
   "outputs": [],
   "source": [
    "def compare_version(version1, version2):\n",
    "    arr1 = version1.split()\n",
    "    arr2 = version2.split()\n",
    "    string1 = arr1[0]\n",
    "    string2 = arr2[0]\n",
    "    nums1 = arr1[1]\n",
    "    nums2 = arr2[1]\n",
    "    if string1 == string2:\n",
    "        ver1 = nums1.split(\".\")  \n",
    "        ver2 = nums2.split(\".\")  \n",
    "        n = len(ver1) \n",
    "        m = len(ver2)  \n",
    "        ver1 = [int(i) for i in ver1] \n",
    "        ver2 = [int(i) for i in ver2]  \n",
    "        if n>m: \n",
    "            for i in range(m, n): \n",
    "                ver2.append(0) \n",
    "        elif m>n: \n",
    "            for i in range(n, m): \n",
    "                ver1.append(0)\n",
    "        for i in range(len(ver1)): \n",
    "            if ver1[i]>ver2[i]: \n",
    "                return \"Higher\"\n",
    "            elif ver2[i]>ver1[i]: \n",
    "                return \"Lower\"\n",
    "        return \"Equal\"\n",
    "    else:\n",
    "        return \"Mismatch\""
   ]
  },
  {
   "cell_type": "code",
   "execution_count": 29,
   "metadata": {},
   "outputs": [
    {
     "data": {
      "text/plain": [
       "'Mismatch'"
      ]
     },
     "execution_count": 29,
     "metadata": {},
     "output_type": "execute_result"
    }
   ],
   "source": [
    "compare_version(\"Linux 5.2.2\", \"CiscoIOS-XR 4.7.8\")"
   ]
  },
  {
   "cell_type": "markdown",
   "metadata": {},
   "source": [
    "# Billu Barber Interview Question Cisco"
   ]
  },
  {
   "cell_type": "code",
   "execution_count": 5,
   "metadata": {},
   "outputs": [],
   "source": [
    "class billuBarber():\n",
    "    def time(self,start_arr=[], end_arr=[]):\n",
    "        time_array = []\n",
    "        n = len(start_arr)\n",
    "        i = 0\n",
    "        while i < n:\n",
    "            start = start_arr[i]\n",
    "            end = end_arr[i]\n",
    "            half1 = int(start[:2])\n",
    "            half2 = int(end[:2])\n",
    "            sec1 = int(start[2:])\n",
    "            sec2 = int(end[2:])\n",
    "            diffh = str(abs(half1-half2))\n",
    "            diffm = str(abs(sec1-sec2))\n",
    "            time = diffh + \":\" +diffm\n",
    "            time_array.append(time)\n",
    "            i += 1\n",
    "        return str(min(time_array))\n",
    "    def appointements(self,fees=[]):\n",
    "            n = len(fees)\n",
    "            val = []\n",
    "            if n==0:\n",
    "                return 0\n",
    "            if n==1:\n",
    "                return fees[0]\n",
    "            v1, v2 = fees[0], max(fees[0], fees[1])\n",
    "            for i in range(2, n):\n",
    "                temp = v2\n",
    "                v2 = max(v2, v1 + fees[i])\n",
    "                v1 = temp\n",
    "            amnt = sum(fees)-v2\n",
    "            fees= sorted(fees)\n",
    "            r=n-1\n",
    "            l=0\n",
    "            while l<r:\n",
    "                if fees[l] + fees[r] < v2:\n",
    "                    l += 1\n",
    "                if fees[l] + fees[r] > v2:\n",
    "                    r -= 1\n",
    "                if fees[l] + fees[r] == v2:\n",
    "                    break\n",
    "            val.extend([fees[l],fees[r]])\n",
    "            wrk = len(fees)-len(val)\n",
    "            return [amnt, wrk],v2"
   ]
  },
  {
   "cell_type": "code",
   "execution_count": 6,
   "metadata": {},
   "outputs": [
    {
     "name": "stdout",
     "output_type": "stream",
     "text": [
      "1:0\n",
      "([695, 4], 900)\n"
     ]
    }
   ],
   "source": [
    "b = billuBarber()\n",
    "print(b.time([\"0900\", \"1000\", \"1130\"], [\"1030\",\"1100\",\"1200\"]))\n",
    "print(b.appointements([300,500,100, 45, 400,250]))"
   ]
  },
  {
   "cell_type": "markdown",
   "metadata": {},
   "source": [
    "# Cisco expand the String Problem:"
   ]
  },
  {
   "cell_type": "markdown",
   "metadata": {},
   "source": [
    "#### Input:\n",
    "s = \"(ab(d)[3])[2]\"\n",
    "#### Output:\n",
    "abdddabddd\n",
    "#### Explanation:\n",
    "\n",
    "step 1: abddd\n",
    "step 2: abdddabddd "
   ]
  },
  {
   "cell_type": "code",
   "execution_count": 12,
   "metadata": {},
   "outputs": [
    {
     "name": "stdout",
     "output_type": "stream",
     "text": [
      "ddd"
     ]
    }
   ],
   "source": [
    "def expand_string(string):\n",
    "    bces = [\"[\",\"]\"]\n",
    "    new = list(string)\n",
    "    stack = []\n",
    "    for i in new:\n",
    "        if i in bces:\n",
    "            pass\n",
    "        else:\n",
    "            stack.append(i)\n",
    "    temp = \"\".join(stack)\n",
    "    \n",
    "    tmp = \"\"\n",
    "    \n",
    "    i = 0\n",
    "    j = 0\n",
    "\n",
    "    while i < len(temp):\n",
    "        if (temp[i] >= \"0\"):\n",
    "            num = ord(temp[i]) - ord(\"0\")\n",
    "            if (temp[i-1] == ')'):\n",
    "                j = i-1\n",
    "                while (temp[j] != \"(\"):\n",
    "                    if ((temp[j] >= 'a' and temp[j] <= 'z') or  (temp[j] >= 'A' and temp[j] <= 'Z')):\n",
    "                        tmp += temp[j]\n",
    "                    j -= 1\n",
    "\n",
    "                for k in range(1, num+1):\n",
    "                    print(tmp, end=\"\")\n",
    "\n",
    "                num=0\n",
    "                temp=\"\"\n",
    "                if (j < len(temp)):\n",
    "                        i = j\n",
    "        i+=1\n"
   ]
  },
  {
   "cell_type": "code",
   "execution_count": 14,
   "metadata": {},
   "outputs": [
    {
     "data": {
      "text/plain": [
       "'(ab(d)3)2'"
      ]
     },
     "execution_count": 14,
     "metadata": {},
     "output_type": "execute_result"
    }
   ],
   "source": [
    "class stack():\n",
    "    def __init__(self):\n",
    "        self.values = []\n",
    "    def push(self, value):\n",
    "        return self.values.append(value)\n",
    "    def pop(self):\n",
    "        return self.values.pop()\n",
    "    def is_empty(self):\n",
    "        return self.values==[]\n",
    "    def peek(self):\n",
    "        if not self.is_empty():\n",
    "            return self.values[:-1]\n",
    "        return False\n",
    "\n",
    "def expand_string(string):\n",
    "    s = stack()\n",
    "    \n",
    "    ### To remove the [] in string\n",
    "    braces = [\"[\", \"]\"]\n",
    "    arr = []\n",
    "    for i in string:\n",
    "        if i in braces:\n",
    "            pass\n",
    "        else:\n",
    "            arr.append(i)\n",
    "    strin = \"\".join(arr)\n",
    "    \n",
    "    ### Now to multiply the string\n",
    "    temp=\"\"\n",
    "    i = 0\n",
    "    j = 0\n",
    "    \n",
    "    for i in range(0, len(strin)):\n",
    "        if (strin[i] >= \"0\"):\n",
    "            num = ord(strin[i])-ord(\"0\")\n",
    "            "
   ]
  },
  {
   "cell_type": "code",
   "execution_count": 9,
   "metadata": {},
   "outputs": [],
   "source": [
    "def expandString(strin):\n",
    "    temp = \"\"\n",
    "    j = 0\n",
    "    i = 0\n",
    "    while(i < len(strin)):\n",
    "        if (strin[i] >= \"0\"):\n",
    "             \n",
    "            # Subtract '0' to convert char to int\n",
    "            num = ord(strin[i])-ord(\"0\")\n",
    "            if (strin[i + 1] == '('):\n",
    "                 \n",
    "                # Characters within brackets\n",
    "                j = i + 1\n",
    "                while(strin[j] != ')'):\n",
    "                    if ((strin[j] >= 'a' and strin[j] <= 'z') or \\\n",
    "                        (strin[j] >= 'A' and strin[j] <= 'Z')):\n",
    "                        temp += strin[j]\n",
    "                    j += 1\n",
    "                     \n",
    "                # Expanding\n",
    "                for k in range(1, num + 1):\n",
    "                    print(temp,end=\"\")\n",
    "                     \n",
    "                # Reset the variables\n",
    "                num = 0\n",
    "                temp = \"\"\n",
    "                if (j < len(strin)):\n",
    "                    i = j\n",
    "        i += 1"
   ]
  },
  {
   "cell_type": "code",
   "execution_count": 10,
   "metadata": {},
   "outputs": [
    {
     "name": "stdout",
     "output_type": "stream",
     "text": [
      "abababcdcdcdcd"
     ]
    }
   ],
   "source": [
    "strin = \"3(ab)4(cd)\"\n",
    "expandString(strin)"
   ]
  },
  {
   "cell_type": "code",
   "execution_count": 1,
   "metadata": {},
   "outputs": [
    {
     "name": "stdout",
     "output_type": "stream",
     "text": [
      ")d\n",
      ")d)3)d\n"
     ]
    }
   ],
   "source": [
    "def remove_element_from_stack(stack, count):\n",
    "    while count > 0:\n",
    "        stack.pop()\n",
    "        count = count - 1\n",
    "numbers = ['1','2', '3', '4', '5', '6', '7', '8', '9']\n",
    "string = '(ab(d)3)2'\n",
    "i=0\n",
    "j=0\n",
    "temp = \"\"\n",
    "stack = []\n",
    "count=0\n",
    "total_count = 0\n",
    "while i < len(string):\n",
    "    if string[i] in numbers:\n",
    "        num = int(string[i])\n",
    "        if string[i-1] == \")\":\n",
    "            j = i-1\n",
    "            while string[j]!=\"(\":\n",
    "                temp+=string[j]\n",
    "                j-=1\n",
    "                count+=1\n",
    "            \n",
    "            print(temp)\n",
    "    else:\n",
    "        stack.append(string[i])\n",
    "    i += 1"
   ]
  },
  {
   "cell_type": "markdown",
   "metadata": {},
   "source": [
    "# Possible Permutations of a Given String:"
   ]
  },
  {
   "cell_type": "code",
   "execution_count": 4,
   "metadata": {},
   "outputs": [
    {
     "name": "stdout",
     "output_type": "stream",
     "text": [
      "ABCD\n",
      "ABDC\n",
      "ACBD\n",
      "ACDB\n",
      "ADCB\n",
      "ADBC\n",
      "BACD\n",
      "BADC\n",
      "BCAD\n",
      "BCDA\n",
      "BDCA\n",
      "BDAC\n",
      "CBAD\n",
      "CBDA\n",
      "CABD\n",
      "CADB\n",
      "CDAB\n",
      "CDBA\n",
      "DBCA\n",
      "DBAC\n",
      "DCBA\n",
      "DCAB\n",
      "DACB\n",
      "DABC\n"
     ]
    }
   ],
   "source": [
    "def toString(List): \n",
    "    return ''.join(List) \n",
    "  \n",
    "def permute(a, l, r): \n",
    "    if l==r: \n",
    "        print (toString(a)) \n",
    "    else: \n",
    "        for i in range(l,r+1): \n",
    "            a[l], a[i] = a[i], a[l] \n",
    "            permute(a, l+1, r) \n",
    "            a[l], a[i] = a[i], a[l] \n",
    "string = \"ABCD\"\n",
    "n = len(string) \n",
    "a = list(string) \n",
    "permute(a, 0, n-1) "
   ]
  },
  {
   "cell_type": "code",
   "execution_count": null,
   "metadata": {},
   "outputs": [],
   "source": []
  }
 ],
 "metadata": {
  "kernelspec": {
   "display_name": "Python 3",
   "language": "python",
   "name": "python3"
  },
  "language_info": {
   "codemirror_mode": {
    "name": "ipython",
    "version": 3
   },
   "file_extension": ".py",
   "mimetype": "text/x-python",
   "name": "python",
   "nbconvert_exporter": "python",
   "pygments_lexer": "ipython3",
   "version": "3.8.5"
  }
 },
 "nbformat": 4,
 "nbformat_minor": 4
}
