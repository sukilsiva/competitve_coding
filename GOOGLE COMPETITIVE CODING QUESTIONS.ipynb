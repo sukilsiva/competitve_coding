{
 "cells": [
  {
   "cell_type": "markdown",
   "metadata": {},
   "source": [
    "# GOCC14: Google Online Coding Challenge 2020 – New Grad (India)"
   ]
  },
  {
   "cell_type": "markdown",
   "metadata": {},
   "source": [
    "This Questions are taken from GeeksforGeeks Google Past Interviews https://www.geeksforgeeks.org/gocc14-google-online-coding-challenge-2020-new-grad-india/?ref=rp"
   ]
  },
  {
   "cell_type": "markdown",
   "metadata": {},
   "source": [
    "#### Question1:"
   ]
  },
  {
   "cell_type": "markdown",
   "metadata": {},
   "source": [
    "FIRST QUESTION: You are given a string S ( having lowercase English letters only). In one operation, you can remove the substring “pr” from the string S and get amount X or you can remove the substring “rp” and get the amount Y. \n",
    "Find the maximum amount you can get if you perform zero or more such operations optimally. \n",
    "\n",
    "NOTE : \n",
    "\n",
    "Substring of a string S is defined as a continuous sequence of characters in S.\n",
    "After removing “pr” or “rp”, the order of remaining letters should remain the same.\n",
    "\n",
    "EXAMPLE: \n",
    "\n",
    "abppprrr  (string S)  \n",
    "5 4       (value of X and Y )\n",
    "Output:\n",
    "\n",
    "15\n",
    "Explanation : \n",
    "\n",
    "Here, S=”abppprrr” \n",
    "\n",
    "X= 5, Y=4.\n",
    "\n",
    "Remove substrings are mentioned :\n",
    "\n",
    "Remove “pr”, new string S=”abpprr”.\n",
    "\n",
    "Remove “pr”, new string S=”abpr”.\n",
    "\n",
    "Remove “pr”, new string S=” “.\n",
    "\n",
    "In total, we removed pr 3 times, so total score is 3*X + 0*Y = 3*5 =15."
   ]
  },
  {
   "cell_type": "markdown",
   "metadata": {},
   "source": [
    "### Solution 1: Recursion"
   ]
  },
  {
   "cell_type": "code",
   "execution_count": 6,
   "metadata": {},
   "outputs": [
    {
     "name": "stdout",
     "output_type": "stream",
     "text": [
      "abppprrr\n"
     ]
    },
    {
     "data": {
      "text/plain": [
       "1"
      ]
     },
     "execution_count": 6,
     "metadata": {},
     "output_type": "execute_result"
    }
   ],
   "source": [
    "x=5\n",
    "y=4\n",
    "s=\"abppprrr\"\n",
    "print(s)\n",
    "\n",
    "def remove_substring(string):\n",
    "    count_x=0\n",
    "    count_y=0\n",
    "    if \"pr\" in string:\n",
    "        string=string.replace(\"pr\",\"\")\n",
    "        count_x +=1\n",
    "        remove_substring(string)\n",
    "    elif \"rp\" in string:\n",
    "        string=string.replace(\"rp\",\"\")\n",
    "        count_y+=1\n",
    "        remove_substring(string)\n",
    "    else:\n",
    "        return string\n",
    "    result = (x * count_x) + (y * count_y)\n",
    "    return count_x\n",
    "\n",
    "remove_substring(s)"
   ]
  },
  {
   "cell_type": "markdown",
   "metadata": {},
   "source": [
    "### Solution 2: While Loop"
   ]
  },
  {
   "cell_type": "code",
   "execution_count": 6,
   "metadata": {},
   "outputs": [
    {
     "data": {
      "text/plain": [
       "15"
      ]
     },
     "execution_count": 6,
     "metadata": {},
     "output_type": "execute_result"
    }
   ],
   "source": [
    "x=5\n",
    "y=4\n",
    "s=\"abppprrr\"\n",
    "\n",
    "def remove_substring(string):\n",
    "    count_x=0\n",
    "    count_y=0\n",
    "    if \"pr\" in string:\n",
    "        while \"pr\" in string:\n",
    "            string=string.replace(\"pr\",\"\")\n",
    "            count_x += 1\n",
    "    elif \"rp\" in string:\n",
    "        while \"rp\" in string:\n",
    "            string=string.replace(\"rp\",\"\")\n",
    "            count_y += 1\n",
    "    else:\n",
    "        pass\n",
    "    \n",
    "    output=(x*count_x)+(y*count_y)\n",
    "    return output\n",
    "remove_substring(s)"
   ]
  },
  {
   "cell_type": "markdown",
   "metadata": {},
   "source": [
    "#### Question 2:"
   ]
  },
  {
   "cell_type": "markdown",
   "metadata": {},
   "source": [
    " Given an array A of N integers and another array B of M integers (not necessarily distinct). The task is to find the minimum number of elements to be added in B so that A becomes subsequence of B. Note that you can add elements at any position in B. \n",
    "A subsequence is a sequence that can be derived by deleting some or no elements from the sequence without changing the order of remaining elements. \n",
    "\n",
    "Example: \n",
    "\n",
    "5 6           ( size of A array and B array)\n",
    "1 2 3 4 5     ( A array )\n",
    "2 5 6 4 9 12  ( B array )\n",
    "Output: \n",
    "\n",
    "3\n",
    "\n",
    "Explanation: We need to add 3 numbers in B such that A will become subsequence of B. \n",
    "\n",
    "We added 1 at the start of B and elements 3, 4 between 2 and 5. Now array B becomes [1, 2, 3, 4, 5, 6, 4, 9, 12] and A is a subsequence of B.\n",
    "\n"
   ]
  },
  {
   "cell_type": "code",
   "execution_count": 5,
   "metadata": {},
   "outputs": [
    {
     "data": {
      "text/plain": [
       "3"
      ]
     },
     "execution_count": 5,
     "metadata": {},
     "output_type": "execute_result"
    }
   ],
   "source": [
    "a = [1,2,3,4,5] \n",
    "b = [2,5,6,4,9,12]\n",
    "m=5\n",
    "n=6 \n",
    "\n",
    "def subsequence(a,b):\n",
    "    count_in=0\n",
    "    count_out=0\n",
    "    for i in range(0, n-1):\n",
    "        if a[0] != b[0]:\n",
    "            b.insert(0, a[0])\n",
    "            count_in+=1\n",
    "        else:\n",
    "            if a[i] != b[i]:\n",
    "                b.insert(i, a[i])\n",
    "                count_out+=1\n",
    "                \n",
    "    return count_in + count_out\n",
    "    \n",
    "subsequence(a,b)"
   ]
  },
  {
   "cell_type": "code",
   "execution_count": null,
   "metadata": {},
   "outputs": [],
   "source": []
  }
 ],
 "metadata": {
  "kernelspec": {
   "display_name": "Python 3",
   "language": "python",
   "name": "python3"
  },
  "language_info": {
   "codemirror_mode": {
    "name": "ipython",
    "version": 3
   },
   "file_extension": ".py",
   "mimetype": "text/x-python",
   "name": "python",
   "nbconvert_exporter": "python",
   "pygments_lexer": "ipython3",
   "version": "3.7.6"
  }
 },
 "nbformat": 4,
 "nbformat_minor": 4
}
